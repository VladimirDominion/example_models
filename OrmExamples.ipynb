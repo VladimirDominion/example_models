{
 "cells": [
  {
   "cell_type": "code",
   "execution_count": 29,
   "id": "7a8feeae",
   "metadata": {},
   "outputs": [
    {
     "data": {
      "text/plain": [
       "<QuerySet [<Order: Order object (11)>, <Order: Order object (12)>, <Order: Order object (13)>, <Order: Order object (14)>, <Order: Order object (15)>, <Order: Order object (16)>, <Order: Order object (17)>, <Order: Order object (18)>, <Order: Order object (19)>, <Order: Order object (20)>]>"
      ]
     },
     "execution_count": 29,
     "metadata": {},
     "output_type": "execute_result"
    }
   ],
   "source": [
    "Order.objects.all()\n",
    "Order.objects.all()[:10]\n",
    "Order.objects.all()[10:]\n",
    "Order.objects.all().order_by('-id')[:10]\n",
    "Order.objects.all()[10:20]\n"
   ]
  },
  {
   "cell_type": "code",
   "execution_count": 6,
   "id": "e8b042b1",
   "metadata": {},
   "outputs": [
    {
     "data": {
      "text/plain": [
       "['DoesNotExist',\n",
       " 'Meta',\n",
       " 'MultipleObjectsReturned',\n",
       " 'OrderStatus',\n",
       " '__class__',\n",
       " '__delattr__',\n",
       " '__dict__',\n",
       " '__dir__',\n",
       " '__doc__',\n",
       " '__eq__',\n",
       " '__format__',\n",
       " '__ge__',\n",
       " '__getattribute__',\n",
       " '__getstate__',\n",
       " '__gt__',\n",
       " '__hash__',\n",
       " '__init__',\n",
       " '__init_subclass__',\n",
       " '__le__',\n",
       " '__lt__',\n",
       " '__module__',\n",
       " '__ne__',\n",
       " '__new__',\n",
       " '__reduce__',\n",
       " '__reduce_ex__',\n",
       " '__repr__',\n",
       " '__setattr__',\n",
       " '__setstate__',\n",
       " '__sizeof__',\n",
       " '__str__',\n",
       " '__subclasshook__',\n",
       " '__weakref__',\n",
       " '_check_column_name_clashes',\n",
       " '_check_constraints',\n",
       " '_check_default_pk',\n",
       " '_check_field_name_clashes',\n",
       " '_check_fields',\n",
       " '_check_id_field',\n",
       " '_check_index_together',\n",
       " '_check_indexes',\n",
       " '_check_local_fields',\n",
       " '_check_long_column_names',\n",
       " '_check_m2m_through_same_relationship',\n",
       " '_check_managers',\n",
       " '_check_model',\n",
       " '_check_model_name_db_lookup_clashes',\n",
       " '_check_ordering',\n",
       " '_check_property_name_related_field_accessor_clashes',\n",
       " '_check_single_primary_key',\n",
       " '_check_swappable',\n",
       " '_check_unique_together',\n",
       " '_do_insert',\n",
       " '_do_update',\n",
       " '_get_FIELD_display',\n",
       " '_get_expr_references',\n",
       " '_get_next_or_previous_by_FIELD',\n",
       " '_get_next_or_previous_in_order',\n",
       " '_get_pk_val',\n",
       " '_get_unique_checks',\n",
       " '_meta',\n",
       " '_perform_date_checks',\n",
       " '_perform_unique_checks',\n",
       " '_prepare_related_fields_for_save',\n",
       " '_save_parents',\n",
       " '_save_table',\n",
       " '_set_pk_val',\n",
       " '_state',\n",
       " 'check',\n",
       " 'clean',\n",
       " 'clean_fields',\n",
       " 'created_at',\n",
       " 'date_error_message',\n",
       " 'delete',\n",
       " 'from_db',\n",
       " 'full_clean',\n",
       " 'get_deferred_fields',\n",
       " 'get_items',\n",
       " 'get_next_by_created_at',\n",
       " 'get_previous_by_created_at',\n",
       " 'get_status_display',\n",
       " 'id',\n",
       " 'objects',\n",
       " 'orderitem_set',\n",
       " 'pk',\n",
       " 'prepare_database_save',\n",
       " 'recalculate',\n",
       " 'refresh_from_db',\n",
       " 'save',\n",
       " 'save_base',\n",
       " 'serializable_value',\n",
       " 'status',\n",
       " 'total_amount',\n",
       " 'total_quantity',\n",
       " 'unique_error_message',\n",
       " 'user',\n",
       " 'user_id',\n",
       " 'validate_unique']"
      ]
     },
     "execution_count": 6,
     "metadata": {},
     "output_type": "execute_result"
    }
   ],
   "source": [
    "order = Order.objects.first()\n",
    "dir(order)"
   ]
  },
  {
   "cell_type": "code",
   "execution_count": 1,
   "id": "b6a439d0",
   "metadata": {},
   "outputs": [
    {
     "data": {
      "text/plain": [
       "<QuerySet [<Order: Order object (1)>, <Order: Order object (2)>, <Order: Order object (3)>, <Order: Order object (4)>, <Order: Order object (5)>, <Order: Order object (6)>, <Order: Order object (7)>, <Order: Order object (8)>, <Order: Order object (9)>, <Order: Order object (10)>, <Order: Order object (11)>, <Order: Order object (12)>, <Order: Order object (13)>, <Order: Order object (14)>, <Order: Order object (15)>, <Order: Order object (16)>, <Order: Order object (17)>, <Order: Order object (18)>, <Order: Order object (19)>, <Order: Order object (20)>, '...(remaining elements truncated)...']>"
      ]
     },
     "execution_count": 1,
     "metadata": {},
     "output_type": "execute_result"
    }
   ],
   "source": [
    "\n",
    "orders = Order.objects.select_related('user').prefetch_related(\n",
    "    'items', 'items__product', 'items__product__category'\n",
    ")\n",
    "orders"
   ]
  },
  {
   "cell_type": "code",
   "execution_count": 2,
   "id": "e7b89c2c",
   "metadata": {},
   "outputs": [
    {
     "data": {
      "text/plain": [
       "<Product: Stacey Ramirez MD>"
      ]
     },
     "execution_count": 2,
     "metadata": {},
     "output_type": "execute_result"
    }
   ],
   "source": [
    "orders.first().items.first().product"
   ]
  },
  {
   "cell_type": "code",
   "execution_count": 4,
   "id": "5cf58a8f",
   "metadata": {},
   "outputs": [
    {
     "data": {
      "text/plain": [
       "<Category: Leslie Fowler>"
      ]
     },
     "execution_count": 4,
     "metadata": {},
     "output_type": "execute_result"
    }
   ],
   "source": [
    "orders.first().items.first().product.category"
   ]
  },
  {
   "cell_type": "code",
   "execution_count": 7,
   "id": "24dc167c",
   "metadata": {},
   "outputs": [
    {
     "data": {
      "text/plain": [
       "<QuerySet []>"
      ]
     },
     "execution_count": 7,
     "metadata": {},
     "output_type": "execute_result"
    }
   ],
   "source": [
    "Order.objects.filter(items__quantity=2)\n",
    "Order.objects.filter(items__quantity=3)\n",
    "Order.objects.filter(items__quantity=6)"
   ]
  },
  {
   "cell_type": "code",
   "execution_count": 8,
   "id": "42b91ebb",
   "metadata": {},
   "outputs": [
    {
     "data": {
      "text/plain": [
       "<QuerySet [<Order: Order object (12)>, <Order: Order object (19)>, <Order: Order object (21)>, <Order: Order object (28)>, <Order: Order object (29)>, <Order: Order object (37)>, <Order: Order object (42)>, <Order: Order object (49)>, <Order: Order object (73)>, <Order: Order object (86)>]>"
      ]
     },
     "execution_count": 8,
     "metadata": {},
     "output_type": "execute_result"
    }
   ],
   "source": [
    "Order.objects.filter(total_amount__lte=50)\n",
    "Order.objects.filter(total_amount__lt=50)"
   ]
  },
  {
   "cell_type": "code",
   "execution_count": 9,
   "id": "02dc1f1e",
   "metadata": {},
   "outputs": [
    {
     "data": {
      "text/plain": [
       "<QuerySet [<Order: Order object (1)>, <Order: Order object (3)>, <Order: Order object (4)>, <Order: Order object (5)>, <Order: Order object (8)>, <Order: Order object (10)>, <Order: Order object (11)>, <Order: Order object (13)>, <Order: Order object (14)>, <Order: Order object (15)>, <Order: Order object (16)>, <Order: Order object (17)>, <Order: Order object (18)>, <Order: Order object (20)>, <Order: Order object (23)>, <Order: Order object (24)>, <Order: Order object (26)>, <Order: Order object (27)>, <Order: Order object (30)>, <Order: Order object (31)>, '...(remaining elements truncated)...']>"
      ]
     },
     "execution_count": 9,
     "metadata": {},
     "output_type": "execute_result"
    }
   ],
   "source": [
    "Order.objects.filter(total_amount__gt=150)\n",
    "Order.objects.filter(total_amount__gte=150)"
   ]
  },
  {
   "cell_type": "code",
   "execution_count": 14,
   "id": "e77686da",
   "metadata": {},
   "outputs": [
    {
     "data": {
      "text/plain": [
       "<QuerySet [<Order: Order object (1)>, <Order: Order object (10)>, <Order: Order object (56)>, <Order: Order object (58)>, <Order: Order object (100)>]>"
      ]
     },
     "execution_count": 14,
     "metadata": {},
     "output_type": "execute_result"
    }
   ],
   "source": [
    "Order.objects.filter(items__product__name__icontains='sta')"
   ]
  },
  {
   "cell_type": "code",
   "execution_count": 2,
   "id": "215196d0",
   "metadata": {},
   "outputs": [
    {
     "ename": "AttributeError",
     "evalue": "'Order' object has no attribute 'rang'",
     "output_type": "error",
     "traceback": [
      "\u001b[0;31m---------------------------------------------------------------------------\u001b[0m",
      "\u001b[0;31mAttributeError\u001b[0m                            Traceback (most recent call last)",
      "\u001b[0;32m/tmp/ipykernel_389828/3845158544.py\u001b[0m in \u001b[0;36m<module>\u001b[0;34m\u001b[0m\n\u001b[0;32m----> 1\u001b[0;31m \u001b[0mOrder\u001b[0m\u001b[0;34m.\u001b[0m\u001b[0mobjects\u001b[0m\u001b[0;34m.\u001b[0m\u001b[0mfirst\u001b[0m\u001b[0;34m(\u001b[0m\u001b[0;34m)\u001b[0m\u001b[0;34m.\u001b[0m\u001b[0mrang\u001b[0m\u001b[0;34m\u001b[0m\u001b[0;34m\u001b[0m\u001b[0m\n\u001b[0m",
      "\u001b[0;31mAttributeError\u001b[0m: 'Order' object has no attribute 'rang'"
     ]
    }
   ],
   "source": [
    "Order.objects.first().rang"
   ]
  },
  {
   "cell_type": "code",
   "execution_count": 1,
   "id": "3d90dbae",
   "metadata": {},
   "outputs": [
    {
     "data": {
      "text/plain": [
       "'Big'"
      ]
     },
     "execution_count": 1,
     "metadata": {},
     "output_type": "execute_result"
    }
   ],
   "source": [
    "Order.ranked_objects.first().rang"
   ]
  },
  {
   "cell_type": "code",
   "execution_count": 8,
   "id": "2ff00131",
   "metadata": {},
   "outputs": [
    {
     "name": "stdout",
     "output_type": "stream",
     "text": [
      "SELECT \"orders_order\".\"id\", \"orders_order\".\"total_quantity\", \"orders_order\".\"total_amount\", \"orders_order\".\"created_at\", \"orders_order\".\"user_id\", \"orders_order\".\"status\", CASE WHEN \"orders_order\".\"total_amount\" < 50 THEN Small WHEN (\"orders_order\".\"total_amount\" >= 50 AND \"orders_order\".\"total_amount\" < 150) THEN Middle WHEN \"orders_order\".\"total_amount\" >= 150 THEN Big ELSE None END AS \"rang\" FROM \"orders_order\"\n"
     ]
    }
   ],
   "source": [
    "from django.db import models\n",
    "\n",
    "qs = Order.objects.annotate(\n",
    "    rang=models.Case(\n",
    "        models.When(total_amount__lt=50, then=models.Value('Small')),\n",
    "        models.When(\n",
    "            models.Q(total_amount__gte=50) & models.Q(total_amount__lt=150)\n",
    "            , then=models.Value('Middle')),\n",
    "        models.When(total_amount__gte=150, then=models.Value('Big')),\n",
    "        default=models.Value('None'),\n",
    "        output_field=models.CharField(),\n",
    "    )\n",
    ")\n",
    "print(qs.query)"
   ]
  },
  {
   "cell_type": "code",
   "execution_count": 11,
   "id": "2df5b7ee",
   "metadata": {},
   "outputs": [
    {
     "data": {
      "text/plain": [
       "<QuerySet [1, 2, 3, 4, 5, 6, 7, 8, 9, 10, 11, 12, 13, 14, 15, 16, 17, 18, 19, 20, '...(remaining elements truncated)...']>"
      ]
     },
     "execution_count": 11,
     "metadata": {},
     "output_type": "execute_result"
    }
   ],
   "source": [
    "Order.objects.values_list('id', flat=True)"
   ]
  },
  {
   "cell_type": "code",
   "execution_count": null,
   "id": "259c4622",
   "metadata": {},
   "outputs": [],
   "source": []
  }
 ],
 "metadata": {
  "kernelspec": {
   "display_name": "Django Shell-Plus",
   "language": "python",
   "name": "django_extensions"
  },
  "language_info": {
   "codemirror_mode": {
    "name": "ipython",
    "version": 3
   },
   "file_extension": ".py",
   "mimetype": "text/x-python",
   "name": "python",
   "nbconvert_exporter": "python",
   "pygments_lexer": "ipython3",
   "version": "3.8.10"
  }
 },
 "nbformat": 4,
 "nbformat_minor": 5
}
