{
 "cells": [
  {
   "cell_type": "markdown",
   "id": "5fd64db0",
   "metadata": {},
   "source": [
    "## Django ORM"
   ]
  },
  {
   "cell_type": "markdown",
   "id": "ccb23c5f",
   "metadata": {},
   "source": []
  },
  {
   "cell_type": "code",
   "execution_count": 5,
   "id": "ba17eea1",
   "metadata": {},
   "outputs": [],
   "source": [
    "from catalog.factories import CategoryFactory, ProductFactory\n",
    "from orders.factories import OrderFactory, OrderItemFactory\n",
    "from users.factories import UserFactory\n",
    "from orders.models import Order\n",
    "import random"
   ]
  },
  {
   "cell_type": "code",
   "execution_count": null,
   "id": "acfa17b1",
   "metadata": {},
   "outputs": [],
   "source": []
  },
  {
   "cell_type": "code",
   "execution_count": null,
   "id": "df8081a9",
   "metadata": {},
   "outputs": [],
   "source": []
  },
  {
   "cell_type": "code",
   "execution_count": null,
   "id": "1d96e39e",
   "metadata": {},
   "outputs": [],
   "source": []
  },
  {
   "cell_type": "code",
   "execution_count": 3,
   "id": "79b56051",
   "metadata": {},
   "outputs": [
    {
     "data": {
      "text/plain": [
       "[<Order: Order object (2)>,\n",
       " <Order: Order object (3)>,\n",
       " <Order: Order object (4)>,\n",
       " <Order: Order object (5)>,\n",
       " <Order: Order object (6)>,\n",
       " <Order: Order object (7)>,\n",
       " <Order: Order object (8)>,\n",
       " <Order: Order object (9)>,\n",
       " <Order: Order object (10)>,\n",
       " <Order: Order object (11)>,\n",
       " <Order: Order object (12)>,\n",
       " <Order: Order object (13)>,\n",
       " <Order: Order object (14)>,\n",
       " <Order: Order object (15)>,\n",
       " <Order: Order object (16)>,\n",
       " <Order: Order object (17)>,\n",
       " <Order: Order object (18)>,\n",
       " <Order: Order object (19)>,\n",
       " <Order: Order object (20)>,\n",
       " <Order: Order object (21)>,\n",
       " <Order: Order object (22)>,\n",
       " <Order: Order object (23)>,\n",
       " <Order: Order object (24)>,\n",
       " <Order: Order object (25)>,\n",
       " <Order: Order object (26)>,\n",
       " <Order: Order object (27)>,\n",
       " <Order: Order object (28)>,\n",
       " <Order: Order object (29)>,\n",
       " <Order: Order object (30)>,\n",
       " <Order: Order object (31)>,\n",
       " <Order: Order object (32)>,\n",
       " <Order: Order object (33)>,\n",
       " <Order: Order object (34)>,\n",
       " <Order: Order object (35)>,\n",
       " <Order: Order object (36)>,\n",
       " <Order: Order object (37)>,\n",
       " <Order: Order object (38)>,\n",
       " <Order: Order object (39)>,\n",
       " <Order: Order object (40)>,\n",
       " <Order: Order object (41)>,\n",
       " <Order: Order object (42)>,\n",
       " <Order: Order object (43)>,\n",
       " <Order: Order object (44)>,\n",
       " <Order: Order object (45)>,\n",
       " <Order: Order object (46)>,\n",
       " <Order: Order object (47)>,\n",
       " <Order: Order object (48)>,\n",
       " <Order: Order object (49)>,\n",
       " <Order: Order object (50)>,\n",
       " <Order: Order object (51)>,\n",
       " <Order: Order object (52)>,\n",
       " <Order: Order object (53)>,\n",
       " <Order: Order object (54)>,\n",
       " <Order: Order object (55)>,\n",
       " <Order: Order object (56)>,\n",
       " <Order: Order object (57)>,\n",
       " <Order: Order object (58)>,\n",
       " <Order: Order object (59)>,\n",
       " <Order: Order object (60)>,\n",
       " <Order: Order object (61)>,\n",
       " <Order: Order object (62)>,\n",
       " <Order: Order object (63)>,\n",
       " <Order: Order object (64)>,\n",
       " <Order: Order object (65)>,\n",
       " <Order: Order object (66)>,\n",
       " <Order: Order object (67)>,\n",
       " <Order: Order object (68)>,\n",
       " <Order: Order object (69)>,\n",
       " <Order: Order object (70)>,\n",
       " <Order: Order object (71)>,\n",
       " <Order: Order object (72)>,\n",
       " <Order: Order object (73)>,\n",
       " <Order: Order object (74)>,\n",
       " <Order: Order object (75)>,\n",
       " <Order: Order object (76)>,\n",
       " <Order: Order object (77)>,\n",
       " <Order: Order object (78)>,\n",
       " <Order: Order object (79)>,\n",
       " <Order: Order object (80)>,\n",
       " <Order: Order object (81)>,\n",
       " <Order: Order object (82)>,\n",
       " <Order: Order object (83)>,\n",
       " <Order: Order object (84)>,\n",
       " <Order: Order object (85)>,\n",
       " <Order: Order object (86)>,\n",
       " <Order: Order object (87)>,\n",
       " <Order: Order object (88)>,\n",
       " <Order: Order object (89)>,\n",
       " <Order: Order object (90)>,\n",
       " <Order: Order object (91)>,\n",
       " <Order: Order object (92)>,\n",
       " <Order: Order object (93)>,\n",
       " <Order: Order object (94)>,\n",
       " <Order: Order object (95)>,\n",
       " <Order: Order object (96)>,\n",
       " <Order: Order object (97)>,\n",
       " <Order: Order object (98)>,\n",
       " <Order: Order object (99)>,\n",
       " <Order: Order object (100)>,\n",
       " <Order: Order object (101)>]"
      ]
     },
     "execution_count": 3,
     "metadata": {},
     "output_type": "execute_result"
    }
   ],
   "source": [
    "OrderFactory.create_batch(100)"
   ]
  },
  {
   "cell_type": "code",
   "execution_count": 7,
   "id": "de65ee4c",
   "metadata": {},
   "outputs": [],
   "source": [
    "for order in Order.objects.all():\n",
    "    n = random.randint(1, 5)\n",
    "    OrderItemFactory.create_batch(n, order=order)"
   ]
  },
  {
   "cell_type": "code",
   "execution_count": 8,
   "id": "49e04a1a",
   "metadata": {},
   "outputs": [],
   "source": [
    "for order in Order.objects.all():\n",
    "    order.recalculate()"
   ]
  },
  {
   "cell_type": "code",
   "execution_count": null,
   "id": "d240c2d4",
   "metadata": {},
   "outputs": [],
   "source": []
  },
  {
   "cell_type": "code",
   "execution_count": null,
   "id": "6bd7ea01",
   "metadata": {},
   "outputs": [],
   "source": []
  },
  {
   "cell_type": "code",
   "execution_count": null,
   "id": "598f8aef",
   "metadata": {},
   "outputs": [],
   "source": []
  },
  {
   "cell_type": "code",
   "execution_count": null,
   "id": "2d150277",
   "metadata": {},
   "outputs": [],
   "source": []
  },
  {
   "cell_type": "code",
   "execution_count": null,
   "id": "9cdfeed0",
   "metadata": {},
   "outputs": [],
   "source": []
  },
  {
   "cell_type": "code",
   "execution_count": null,
   "id": "17193d78",
   "metadata": {},
   "outputs": [],
   "source": []
  }
 ],
 "metadata": {
  "kernelspec": {
   "display_name": "Django Shell-Plus",
   "language": "python",
   "name": "django_extensions"
  },
  "language_info": {
   "codemirror_mode": {
    "name": "ipython",
    "version": 3
   },
   "file_extension": ".py",
   "mimetype": "text/x-python",
   "name": "python",
   "nbconvert_exporter": "python",
   "pygments_lexer": "ipython3",
   "version": "3.8.10"
  }
 },
 "nbformat": 4,
 "nbformat_minor": 5
}
